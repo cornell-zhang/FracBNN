{
 "cells": [
  {
   "cell_type": "code",
   "execution_count": 1,
   "metadata": {},
   "outputs": [
    {
     "data": {
      "application/javascript": [
       "\n",
       "require(['notebook/js/codecell'], function(codecell) {\n",
       "  codecell.CodeCell.options_default.highlight_modes[\n",
       "      'magic_text/x-csrc'] = {'reg':[/^%%microblaze/]};\n",
       "  Jupyter.notebook.events.one('kernel_ready.Kernel', function(){\n",
       "      Jupyter.notebook.get_cells().map(function(cell){\n",
       "          if (cell.cell_type == 'code'){ cell.auto_highlight(); } }) ;\n",
       "  });\n",
       "});\n"
      ]
     },
     "metadata": {},
     "output_type": "display_data"
    }
   ],
   "source": [
    "import sys, os, time\n",
    "import numpy as np\n",
    "\n",
    "from pynq import Xlnk\n",
    "from pynq import Overlay\n",
    "import pynq\n",
    "\n",
    "xlnk = Xlnk()\n",
    "xlnk.xlnk_reset()"
   ]
  },
  {
   "cell_type": "code",
   "execution_count": 2,
   "metadata": {},
   "outputs": [],
   "source": [
    "overlay = Overlay(\"./FracNet_T_0.bit\")\n",
    "# overlay?\n",
    "FracNet = overlay.FracNet_T_0\n",
    "# timer = overlay.axi_timer_0"
   ]
  },
  {
   "cell_type": "code",
   "execution_count": 3,
   "metadata": {},
   "outputs": [
    {
     "data": {
      "text/plain": [
       "RegisterMap {\n",
       "  CTRL = Register(AP_START=0, AP_DONE=0, AP_IDLE=1, AP_READY=0, RESERVED_1=0, AUTO_RESTART=0, RESERVED_2=0),\n",
       "  GIER = Register(Enable=0, RESERVED=0),\n",
       "  IP_IER = Register(CHAN0_INT_EN=0, CHAN1_INT_EN=0, RESERVED=0),\n",
       "  IP_ISR = Register(CHAN0_INT_ST=0, CHAN1_INT_ST=0, RESERVED=0),\n",
       "  image_V = Register(image_V=0),\n",
       "  output_r = Register(output_r=0)\n",
       "}"
      ]
     },
     "execution_count": 3,
     "metadata": {},
     "output_type": "execute_result"
    }
   ],
   "source": [
    "FracNet.register_map"
   ]
  },
  {
   "cell_type": "code",
   "execution_count": 4,
   "metadata": {},
   "outputs": [],
   "source": [
    "# timer.register_map"
   ]
  },
  {
   "cell_type": "code",
   "execution_count": 5,
   "metadata": {},
   "outputs": [],
   "source": [
    "bus512 = 'B,'*63 + 'B'\n",
    "dt_512 = np.dtype(bus512)\n",
    "\n",
    "bus256 = 'B,'*31 + 'B'\n",
    "dt_256 = np.dtype(bus256)\n",
    "\n",
    "image_thermo = xlnk.cma_array(shape=(3,32,32), dtype=np.uint64)\n",
    "result = xlnk.cma_array(shape=(10), dtype=np.float32)"
   ]
  },
  {
   "cell_type": "code",
   "execution_count": 6,
   "metadata": {},
   "outputs": [],
   "source": [
    "import numpy as np\n",
    "images = np.load('conv1_input_uint64.npy')"
   ]
  },
  {
   "cell_type": "code",
   "execution_count": 7,
   "metadata": {},
   "outputs": [
    {
     "name": "stdout",
     "output_type": "stream",
     "text": [
      "1000\n"
     ]
    }
   ],
   "source": [
    "\n",
    "num_tests = 1000\n",
    "with open('labels.bin', 'rb') as f:\n",
    "    content = f.read()\n",
    "print(len(content))\n",
    "\n",
    "labels = np.ndarray((num_tests,))\n",
    "for i in range(num_tests):\n",
    "    labels[i] = content[i]"
   ]
  },
  {
   "cell_type": "code",
   "execution_count": 8,
   "metadata": {},
   "outputs": [
    {
     "data": {
      "text/plain": [
       "RegisterMap {\n",
       "  CTRL = Register(AP_START=0, AP_DONE=0, AP_IDLE=1, AP_READY=0, RESERVED_1=0, AUTO_RESTART=0, RESERVED_2=0),\n",
       "  GIER = Register(Enable=0, RESERVED=0),\n",
       "  IP_IER = Register(CHAN0_INT_EN=0, CHAN1_INT_EN=0, RESERVED=0),\n",
       "  IP_ISR = Register(CHAN0_INT_ST=0, CHAN1_INT_ST=0, RESERVED=0),\n",
       "  image_V = Register(image_V=2014117888),\n",
       "  output_r = Register(output_r=2011934720)\n",
       "}"
      ]
     },
     "execution_count": 8,
     "metadata": {},
     "output_type": "execute_result"
    }
   ],
   "source": [
    "FracNet.register_map.image_V   = image_thermo.physical_address\n",
    "FracNet.register_map.output_r  = result.physical_address\n",
    "FracNet.register_map"
   ]
  },
  {
   "cell_type": "code",
   "execution_count": 13,
   "metadata": {
    "scrolled": true
   },
   "outputs": [
    {
     "name": "stdout",
     "output_type": "stream",
     "text": [
      "Latency: 0.7046 ms\n",
      "Throughput: 1419.2221 fps\n",
      "Accuracy: 97.0%\n"
     ]
    }
   ],
   "source": [
    "from time import perf_counter\n",
    "idle = FracNet.register_map.CTRL.AP_IDLE\n",
    "FracNet.register_map.CTRL.AP_START = 0\n",
    "\n",
    "t = 0\n",
    "correct = 0\n",
    "for i in range(num_tests):\n",
    "    np.copyto(image_thermo, images[i])\n",
    "    idle = 0\n",
    "    FracNet.register_map.CTRL.AP_START = 1\n",
    "    \n",
    "    ts = perf_counter()\n",
    "    while idle == 0:\n",
    "        idle = FracNet.register_map.CTRL.AP_IDLE\n",
    "    tt = perf_counter()\n",
    "    \n",
    "    t += tt - ts\n",
    "    \n",
    "    pred = np.argmax(result)\n",
    "    if pred == labels[i]:\n",
    "        correct += 1\n",
    "    \n",
    "print('Latency: %.4f ms'%(t/num_tests*1000))\n",
    "print('Throughput: %.4f fps'%(1/(t/num_tests)))\n",
    "print('Accuracy: %.1f%%'%(correct/num_tests*100))"
   ]
  },
  {
   "cell_type": "code",
   "execution_count": null,
   "metadata": {},
   "outputs": [],
   "source": []
  },
  {
   "cell_type": "code",
   "execution_count": null,
   "metadata": {},
   "outputs": [],
   "source": []
  }
 ],
 "metadata": {
  "kernelspec": {
   "display_name": "Python 3",
   "language": "python",
   "name": "python3"
  },
  "language_info": {
   "codemirror_mode": {
    "name": "ipython",
    "version": 3
   },
   "file_extension": ".py",
   "mimetype": "text/x-python",
   "name": "python",
   "nbconvert_exporter": "python",
   "pygments_lexer": "ipython3",
   "version": "3.6.5"
  }
 },
 "nbformat": 4,
 "nbformat_minor": 2
}
