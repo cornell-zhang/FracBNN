{
 "cells": [
  {
   "cell_type": "code",
   "execution_count": 1,
   "metadata": {},
   "outputs": [
    {
     "data": {
      "application/javascript": [
       "\n",
       "require(['notebook/js/codecell'], function(codecell) {\n",
       "  codecell.CodeCell.options_default.highlight_modes[\n",
       "      'magic_text/x-csrc'] = {'reg':[/^%%microblaze/]};\n",
       "  Jupyter.notebook.events.one('kernel_ready.Kernel', function(){\n",
       "      Jupyter.notebook.get_cells().map(function(cell){\n",
       "          if (cell.cell_type == 'code'){ cell.auto_highlight(); } }) ;\n",
       "  });\n",
       "});\n"
      ]
     },
     "metadata": {},
     "output_type": "display_data"
    }
   ],
   "source": [
    "import sys, os, time\n",
    "import numpy as np\n",
    "np.set_printoptions(precision=3)\n",
    "\n",
    "from pynq import Xlnk\n",
    "from pynq import Overlay\n",
    "import pynq\n",
    "from multiprocessing import Process, Pipe, Queue, Event, Manager, Value, Lock\n",
    "\n",
    "xlnk = Xlnk()\n",
    "xlnk.xlnk_reset()"
   ]
  },
  {
   "cell_type": "code",
   "execution_count": 2,
   "metadata": {},
   "outputs": [],
   "source": [
    "overlay = Overlay(\"./0503.bit\")\n",
    "# overlay?\n",
    "FracNet = overlay.FracNet_0"
   ]
  },
  {
   "cell_type": "code",
   "execution_count": 3,
   "metadata": {},
   "outputs": [
    {
     "data": {
      "text/plain": [
       "RegisterMap {\n",
       "  CTRL = Register(AP_START=0, AP_DONE=0, AP_IDLE=1, AP_READY=0, RESERVED_1=0, AUTO_RESTART=0, RESERVED_2=0),\n",
       "  GIER = Register(Enable=0, RESERVED=0),\n",
       "  IP_IER = Register(CHAN0_INT_EN=0, CHAN1_INT_EN=0, RESERVED=0),\n",
       "  IP_ISR = Register(CHAN0_INT_ST=0, CHAN1_INT_ST=0, RESERVED=0),\n",
       "  image_thermo_V = Register(image_thermo_V=0),\n",
       "  conv_weight_3x3_all_new_V = Register(conv_weight_3x3_all_new_V=0),\n",
       "  conv_weight_1x1_all_new_V = Register(conv_weight_1x1_all_new_V=0),\n",
       "  weights_all_V = Register(weights_all_V=0),\n",
       "  DDR_buf_pack_V = Register(DDR_buf_pack_V=0)\n",
       "}"
      ]
     },
     "execution_count": 3,
     "metadata": {},
     "output_type": "execute_result"
    }
   ],
   "source": [
    "FracNet.register_map"
   ]
  },
  {
   "cell_type": "code",
   "execution_count": 4,
   "metadata": {},
   "outputs": [
    {
     "name": "stdout",
     "output_type": "stream",
     "text": [
      "{'CMA Memory Available': 127721472, 'CMA Memory Usage': 0, 'Buffer Count': 0}\n",
      "{'CMA Memory Available': 110206976, 'CMA Memory Usage': 17504256, 'Buffer Count': 5}\n"
     ]
    }
   ],
   "source": [
    "bus512 = 'B,'*63 + 'B'\n",
    "dt_512 = np.dtype(bus512)\n",
    "\n",
    "bus256 = 'B,'*31 + 'B'\n",
    "dt_256 = np.dtype(bus256)\n",
    "\n",
    "print(xlnk.cma_stats())\n",
    "image_thermo = xlnk.cma_array(shape=(3*224*224), dtype=np.uint32)\n",
    "conv_weight_3x3_all = xlnk.cma_array(shape=(49104), dtype=dt_512)\n",
    "conv_weight_1x1_all = xlnk.cma_array(shape=(6132), dtype=dt_512)\n",
    "other_weight_all = xlnk.cma_array(shape=(5460), dtype=dt_512)\n",
    "DDR_all = xlnk.cma_array(shape=(203400), dtype=dt_512)\n",
    "print(xlnk.cma_stats())"
   ]
  },
  {
   "cell_type": "code",
   "execution_count": 5,
   "metadata": {},
   "outputs": [],
   "source": [
    "fc_weight = np.ndarray((1000, 1024))\n",
    "fc_bias = np.ndarray(1000)"
   ]
  },
  {
   "cell_type": "code",
   "execution_count": 6,
   "metadata": {},
   "outputs": [],
   "source": [
    "image_hw_all_file = np.fromfile(\"image_hw_all_host_new.bin\", dtype=np.uint32)\n",
    "\n",
    "conv_weight_3x3_file = np.fromfile(\"conv3x3_weights_host_new.bin\", dtype=dt_512)\n",
    "np.copyto(conv_weight_3x3_all, conv_weight_3x3_file.reshape(conv_weight_3x3_all.shape))\n",
    "\n",
    "conv_weight_1x1_file = np.fromfile(\"conv1x1_weights_host_new.bin\", dtype=dt_512)\n",
    "np.copyto(conv_weight_1x1_all, conv_weight_1x1_file.reshape(conv_weight_1x1_all.shape))\n",
    "\n",
    "other_weights_file = np.fromfile(\"other_weights_host_new.bin\", dtype=dt_512)\n",
    "np.copyto(other_weight_all, other_weights_file.reshape(other_weight_all.shape))\n",
    "\n",
    "fc_weight_file = np.fromfile(\"fc_weight_host.bin\", dtype=np.float32)\n",
    "np.copyto(fc_weight, fc_weight_file.reshape(fc_weight.shape))\n",
    "\n",
    "fc_bias_file = np.fromfile(\"fc_bias_host.bin\", dtype=np.float32)\n",
    "np.copyto(fc_bias, fc_bias_file.reshape(fc_bias.shape))\n"
   ]
  },
  {
   "cell_type": "code",
   "execution_count": 7,
   "metadata": {},
   "outputs": [
    {
     "data": {
      "text/plain": [
       "RegisterMap {\n",
       "  CTRL = Register(AP_START=0, AP_DONE=0, AP_IDLE=1, AP_READY=0, RESERVED_1=0, AUTO_RESTART=0, RESERVED_2=0),\n",
       "  GIER = Register(Enable=0, RESERVED=0),\n",
       "  IP_IER = Register(CHAN0_INT_EN=0, CHAN1_INT_EN=0, RESERVED=0),\n",
       "  IP_ISR = Register(CHAN0_INT_ST=0, CHAN1_INT_ST=0, RESERVED=0),\n",
       "  image_thermo_V = Register(image_thermo_V=2016411648),\n",
       "  conv_weight_3x3_all_new_V = Register(conv_weight_3x3_all_new_V=2017460224),\n",
       "  conv_weight_1x1_all_new_V = Register(conv_weight_1x1_all_new_V=2015887360),\n",
       "  weights_all_V = Register(weights_all_V=2020605952),\n",
       "  DDR_buf_pack_V = Register(DDR_buf_pack_V=2021654528)\n",
       "}"
      ]
     },
     "execution_count": 7,
     "metadata": {},
     "output_type": "execute_result"
    }
   ],
   "source": [
    "FracNet.register_map.image_thermo_V    = image_thermo.physical_address\n",
    "FracNet.register_map.conv_weight_3x3_all_new_V   = conv_weight_3x3_all.physical_address\n",
    "FracNet.register_map.conv_weight_1x1_all_new_V    = conv_weight_1x1_all.physical_address\n",
    "FracNet.register_map.weights_all_V    = other_weight_all.physical_address\n",
    "FracNet.register_map.DDR_buf_pack_V    = DDR_all.physical_address\n",
    "FracNet.register_map"
   ]
  },
  {
   "cell_type": "code",
   "execution_count": 8,
   "metadata": {},
   "outputs": [],
   "source": [
    "def avgpool(conv):\n",
    "    ret = np.ndarray((1024))\n",
    "    for i in range(1024):\n",
    "        ret[i] = np.sum(conv[i])\n",
    "    return ret/49\n",
    "\n",
    "def matmul(avgpool, weight, bias):\n",
    "    logits = np.matmul(avgpool, weight.T) + bias\n",
    "    p = np.argmax(logits)\n",
    "    return p, logits\n",
    "\n",
    "def classifier(weight, bias, conv_out, num_img):\n",
    "    while True:\n",
    "        while conv_out.empty():\n",
    "            continue\n",
    "        DDR_all_p = conv_out.get()\n",
    "        conv13_hw = np.ndarray((1024, 7, 7))\n",
    "        for i in range(1024):\n",
    "            ch_ptr = i//32\n",
    "            ch_off = i%32\n",
    "            ch_offptr = ch_off//2\n",
    "            ch_offoff = ch_off%2\n",
    "            for row in range(7):\n",
    "                for col in range(2):\n",
    "                    for col_i in range(4):\n",
    "                        if col*4 + col_i < 7:\n",
    "                            index = ch_ptr*img_height*img_width_ceil + row*img_width_ceil + col\n",
    "                            tmp4 = DDR_all_p[index][col_i*16 + ch_offptr]\n",
    "                            if ch_offoff == 1:\n",
    "                                tmp4int = tmp4//16\n",
    "                            else:\n",
    "                                tmp4int = tmp4%16\n",
    "                            tmp4_norm = tmp4int*2/15 - 1\n",
    "                            conv13_hw[i][row][col*4 + col_i] = tmp4_norm\n",
    "        avgpool_out = avgpool(conv13_hw)\n",
    "        pred, logits = matmul(avgpool_out, fc_weight, fc_bias)\n",
    "        predicts.append(pred)\n",
    "        if len(predicts) == num_img:\n",
    "            break"
   ]
  },
  {
   "cell_type": "code",
   "execution_count": 9,
   "metadata": {
    "scrolled": false
   },
   "outputs": [
    {
     "name": "stdout",
     "output_type": "stream",
     "text": [
      "[0]\n"
     ]
    }
   ],
   "source": [
    "from time import perf_counter\n",
    "idle = FracNet.register_map.CTRL.AP_IDLE\n",
    "FracNet.register_map.CTRL.AP_START = 0\n",
    "\n",
    "mgr = Manager()\n",
    "predicts = mgr.list()\n",
    "conv_out_q = mgr.Queue()\n",
    "\n",
    "t = 0\n",
    "img_height = 7\n",
    "img_width = 7\n",
    "img_width_ceil = 2\n",
    "\n",
    "num_imgs = 1\n",
    "\n",
    "p1 = Process(target=classifier, args=(fc_weight, fc_bias, conv_out_q, num_imgs))\n",
    "p1.start()\n",
    "\n",
    "for i in range(num_imgs):\n",
    "    np.copyto(image_thermo, image_hw_all_file)\n",
    "    idle = 0\n",
    "    FracNet.register_map.CTRL.AP_START = 1\n",
    "    \n",
    "    ts = perf_counter()\n",
    "    while idle == 0:\n",
    "        idle = FracNet.register_map.CTRL.AP_IDLE\n",
    "    tt = perf_counter()\n",
    "    t += tt - ts\n",
    "    conv_out_q.put(DDR_all)\n",
    "    \n",
    "p1.join() \n",
    "print(predicts)"
   ]
  },
  {
   "cell_type": "code",
   "execution_count": null,
   "metadata": {},
   "outputs": [],
   "source": []
  }
 ],
 "metadata": {
  "kernelspec": {
   "display_name": "Python 3",
   "language": "python",
   "name": "python3"
  },
  "language_info": {
   "codemirror_mode": {
    "name": "ipython",
    "version": 3
   },
   "file_extension": ".py",
   "mimetype": "text/x-python",
   "name": "python",
   "nbconvert_exporter": "python",
   "pygments_lexer": "ipython3",
   "version": "3.6.5"
  }
 },
 "nbformat": 4,
 "nbformat_minor": 2
}
